{
 "cells": [
  {
   "cell_type": "code",
   "execution_count": 1,
   "id": "62b2db7e-d53c-4433-8cbf-44a98e3a1d28",
   "metadata": {},
   "outputs": [],
   "source": [
    "import pandas as pd\n",
    "import numpy as np\n",
    "\n",
    "\n",
    "merged_data = pd.read_csv('gait_merge_new.csv', low_memory=False)"
   ]
  },
  {
   "cell_type": "code",
   "execution_count": 2,
   "id": "7cae1774-7f0a-4c31-849c-4fd22ef92aac",
   "metadata": {},
   "outputs": [
    {
     "data": {
      "text/plain": [
       "array(['C', 'K', 'H', 'A', 'HC'], dtype=object)"
      ]
     },
     "execution_count": 2,
     "metadata": {},
     "output_type": "execute_result"
    }
   ],
   "source": [
    "merged_data['GRF_metadata.CLASS_LABEL'].unique()"
   ]
  },
  {
   "cell_type": "code",
   "execution_count": 3,
   "id": "1ab28c90-8f06-4741-9937-779a6f8bfe36",
   "metadata": {},
   "outputs": [],
   "source": [
    "merged_data['GRF_metadata.CLASS_LABEL'] = merged_data['GRF_metadata.CLASS_LABEL'].replace({'C': 1, 'K': 1, 'H': 1, 'A': 1})"
   ]
  },
  {
   "cell_type": "code",
   "execution_count": 4,
   "id": "57bce26b-1bc2-4d99-bd8d-186380a1f636",
   "metadata": {},
   "outputs": [],
   "source": [
    "merged_data['GRF_metadata.CLASS_LABEL'] = merged_data['GRF_metadata.CLASS_LABEL'].replace({'HC': 0})\n"
   ]
  },
  {
   "cell_type": "code",
   "execution_count": 5,
   "id": "dd63d141-8ac3-41c8-b5d9-e1026e7a2a7c",
   "metadata": {},
   "outputs": [
    {
     "name": "stdout",
     "output_type": "stream",
     "text": [
      "Accuracy: 0.9409330985915493\n"
     ]
    }
   ],
   "source": [
    "from sklearn import datasets\n",
    "from sklearn.model_selection import train_test_split\n",
    "from sklearn.svm import SVC\n",
    "from sklearn.metrics import accuracy_score\n",
    "\n",
    "# Load dataset (example: Iris dataset)\n",
    "X = merged_data.drop(columns=['GRF_metadata.CLASS_LABEL', 'GRF_metadata.CLASS_LABEL_DETAILED', 'SUBJECT_ID', 'SESSION_ID'])  # Features\n",
    "y = merged_data['GRF_metadata.CLASS_LABEL']\n",
    "\n",
    "# Split dataset into training set and test set\n",
    "X_train, X_test, y_train, y_test = train_test_split(X, y, test_size=0.3, random_state=42)\n",
    "\n",
    "# Create SVM classifier\n",
    "svm_classifier = SVC(kernel='linear')  # Linear kernel for simplicity, you can use other kernels like 'rbf'\n",
    "\n",
    "# Train SVM classifier\n",
    "svm_classifier.fit(X_train, y_train)\n",
    "\n",
    "# Predict the response for test dataset\n",
    "y_pred = svm_classifier.predict(X_test)\n",
    "\n",
    "# Model Accuracy: how often is the classifier correct?\n",
    "print(\"Accuracy:\", accuracy_score(y_test, y_pred))"
   ]
  },
  {
   "cell_type": "code",
   "execution_count": 6,
   "id": "2bc4faee-46e8-460f-89c5-310eb70233fa",
   "metadata": {
    "scrolled": true
   },
   "outputs": [
    {
     "name": "stdout",
     "output_type": "stream",
     "text": [
      "       Actual  Predicted\n",
      "56104       1          1\n",
      "22112       1          0\n",
      "54148       1          1\n",
      "16754       1          1\n",
      "67428       1          1\n",
      "...       ...        ...\n",
      "45443       1          1\n",
      "37239       1          1\n",
      "23819       1          1\n",
      "50280       1          1\n",
      "12613       1          1\n",
      "\n",
      "[22720 rows x 2 columns]\n"
     ]
    }
   ],
   "source": [
    "import pandas as pd\n",
    "\n",
    "# Create a DataFrame to display actual and predicted values side by side\n",
    "results = pd.DataFrame({'Actual': y_test, 'Predicted': y_pred})\n",
    "\n",
    "# Print the DataFrame\n",
    "print(results)"
   ]
  },
  {
   "cell_type": "code",
   "execution_count": null,
   "id": "5e0b3e6a-71d1-448e-b4f9-ce931eb4fa30",
   "metadata": {},
   "outputs": [],
   "source": []
  },
  {
   "cell_type": "code",
   "execution_count": null,
   "id": "4b164aeb-c870-4aa4-b20c-c14eb9274a56",
   "metadata": {},
   "outputs": [],
   "source": []
  }
 ],
 "metadata": {
  "kernelspec": {
   "display_name": "Python 3 (ipykernel)",
   "language": "python",
   "name": "python3"
  },
  "language_info": {
   "codemirror_mode": {
    "name": "ipython",
    "version": 3
   },
   "file_extension": ".py",
   "mimetype": "text/x-python",
   "name": "python",
   "nbconvert_exporter": "python",
   "pygments_lexer": "ipython3",
   "version": "3.12.0"
  }
 },
 "nbformat": 4,
 "nbformat_minor": 5
}
